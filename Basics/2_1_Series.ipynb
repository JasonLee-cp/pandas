{
 "cells": [
  {
   "cell_type": "code",
   "execution_count": 1,
   "id": "b1063d9e",
   "metadata": {},
   "outputs": [],
   "source": [
    "import pandas as pd"
   ]
  },
  {
   "cell_type": "markdown",
   "id": "fd3c4738",
   "metadata": {},
   "source": [
    "# <Part 1> 2-1 Series"
   ]
  },
  {
   "cell_type": "markdown",
   "id": "690954db",
   "metadata": {},
   "source": [
    "### (EX1) Dictionary -> Series"
   ]
  },
  {
   "cell_type": "code",
   "execution_count": 4,
   "id": "bb65ee46",
   "metadata": {},
   "outputs": [
    {
     "name": "stdout",
     "output_type": "stream",
     "text": [
      "<class 'pandas.core.series.Series'>\n",
      "a    1\n",
      "b    2\n",
      "c    3\n",
      "dtype: int64\n"
     ]
    }
   ],
   "source": [
    "dict_data = {'a':1, 'b':2, 'c':3}\n",
    "\n",
    "sr = pd.Series(dict_data) # dictionary를 Series() 함수에 전달하면 Series Object을 반환\n",
    "\n",
    "print(type(sr))\n",
    "print(sr)"
   ]
  },
  {
   "cell_type": "markdown",
   "id": "e09012e1",
   "metadata": {},
   "source": [
    "### Series의 Index & Value 값 배열 - index이름 있을때"
   ]
  },
  {
   "cell_type": "code",
   "execution_count": 5,
   "id": "ef57b94d",
   "metadata": {},
   "outputs": [
    {
     "data": {
      "text/plain": [
       "Index(['a', 'b', 'c'], dtype='object')"
      ]
     },
     "execution_count": 5,
     "metadata": {},
     "output_type": "execute_result"
    }
   ],
   "source": [
    "sr.index"
   ]
  },
  {
   "cell_type": "code",
   "execution_count": 6,
   "id": "bfc14236",
   "metadata": {
    "scrolled": true
   },
   "outputs": [
    {
     "data": {
      "text/plain": [
       "array([1, 2, 3])"
      ]
     },
     "execution_count": 6,
     "metadata": {},
     "output_type": "execute_result"
    }
   ],
   "source": [
    "sr.values"
   ]
  },
  {
   "cell_type": "markdown",
   "id": "23bf92e6",
   "metadata": {},
   "source": [
    "### (EX2)  List -> Series"
   ]
  },
  {
   "cell_type": "code",
   "execution_count": 7,
   "id": "c4a7d572",
   "metadata": {},
   "outputs": [
    {
     "name": "stdout",
     "output_type": "stream",
     "text": [
      "0     313\n",
      "1    3.14\n",
      "2     ABC\n",
      "3     100\n",
      "dtype: object\n"
     ]
    }
   ],
   "source": [
    "list_data = ['313',3.14,'ABC',100]\n",
    "sr = pd.Series(list_data)\n",
    "print(sr)"
   ]
  },
  {
   "cell_type": "markdown",
   "id": "d8a78873",
   "metadata": {},
   "source": [
    "List를 Series로 변환할때는 **index**가 따로 없으므로 default index (0,1,2,..) 를 자동으로 사용됨"
   ]
  },
  {
   "cell_type": "code",
   "execution_count": 9,
   "id": "2c09995c",
   "metadata": {},
   "outputs": [
    {
     "name": "stdout",
     "output_type": "stream",
     "text": [
      "RangeIndex(start=0, stop=4, step=1)\n",
      "['313' 3.14 'ABC' 100]\n"
     ]
    }
   ],
   "source": [
    "idx = sr.index\n",
    "val = sr.values\n",
    "print(idx)\n",
    "print(val)"
   ]
  },
  {
   "cell_type": "markdown",
   "id": "dabcc2d2",
   "metadata": {},
   "source": [
    "Index가 default index이기 때문에 **RangeIndex**로 표시가됨"
   ]
  },
  {
   "cell_type": "markdown",
   "id": "43fcff39",
   "metadata": {},
   "source": [
    "### Tuple -> Series"
   ]
  },
  {
   "cell_type": "code",
   "execution_count": 10,
   "id": "5b47552c",
   "metadata": {},
   "outputs": [
    {
     "name": "stdout",
     "output_type": "stream",
     "text": [
      "0            안녕\n",
      "1    2011-23-23\n",
      "2          True\n",
      "3            23\n",
      "dtype: object\n"
     ]
    }
   ],
   "source": [
    "tup_data = ('안녕','2011-23-23', True, 23)\n",
    "sr = pd.Series(tup_data)\n",
    "print(sr)"
   ]
  },
  {
   "cell_type": "markdown",
   "id": "610a791f",
   "metadata": {},
   "source": [
    "### (EX 1-3) Tuple/List Index 설정"
   ]
  },
  {
   "cell_type": "code",
   "execution_count": 20,
   "id": "d5ff27e7",
   "metadata": {},
   "outputs": [
    {
     "name": "stdout",
     "output_type": "stream",
     "text": [
      "Name             Jason\n",
      "Birthday    2010-02-32\n",
      "Sex             Female\n",
      "Student           True\n",
      "dtype: object\n",
      "\n",
      "\n",
      "name           1\n",
      "age            2\n",
      "ada           22\n",
      "networth    4325\n",
      "dtype: object\n"
     ]
    }
   ],
   "source": [
    "tup_data = ('Jason','2010-02-32','Female',True)\n",
    "list_data = [1,2,'22',4325]\n",
    "\n",
    "sr = pd.Series(tup_data, index=['Name','Birthday','Sex','Student'])\n",
    "sr2 = pd.Series(list_data, index=['name','age','ada','networth'])\n",
    "print(sr1)\n",
    "print('\\n')\n",
    "print(sr2)"
   ]
  },
  {
   "cell_type": "markdown",
   "id": "d4e45c0e",
   "metadata": {},
   "source": [
    "### (EX 1-3) Series 원소 선택"
   ]
  },
  {
   "cell_type": "code",
   "execution_count": 23,
   "id": "bf4388f6",
   "metadata": {},
   "outputs": [
    {
     "name": "stdout",
     "output_type": "stream",
     "text": [
      "Jason\n",
      "Jason\n"
     ]
    }
   ],
   "source": [
    "print(sr[0])\n",
    "print(sr['Name'])"
   ]
  },
  {
   "cell_type": "code",
   "execution_count": 25,
   "id": "a0fce7f9",
   "metadata": {},
   "outputs": [
    {
     "data": {
      "text/plain": [
       "Birthday    2010-02-32\n",
       "Sex             Female\n",
       "dtype: object"
      ]
     },
     "execution_count": 25,
     "metadata": {},
     "output_type": "execute_result"
    }
   ],
   "source": [
    "sr[[1,2]]"
   ]
  },
  {
   "cell_type": "code",
   "execution_count": 26,
   "id": "46ab3b06",
   "metadata": {},
   "outputs": [
    {
     "data": {
      "text/plain": [
       "Birthday    2010-02-32\n",
       "Sex             Female\n",
       "dtype: object"
      ]
     },
     "execution_count": 26,
     "metadata": {},
     "output_type": "execute_result"
    }
   ],
   "source": [
    "sr[['Birthday','Sex']]"
   ]
  },
  {
   "cell_type": "markdown",
   "id": "960382a9",
   "metadata": {},
   "source": [
    "#### Index Range로 원소 선택"
   ]
  },
  {
   "cell_type": "markdown",
   "id": "5479df72",
   "metadata": {},
   "source": [
    "**integer range** -> end index **불포함**\n",
    "\n",
    "**String range** -> end index **포함**"
   ]
  },
  {
   "cell_type": "code",
   "execution_count": 27,
   "id": "04bb2ad1",
   "metadata": {},
   "outputs": [
    {
     "data": {
      "text/plain": [
       "Birthday    2010-02-32\n",
       "dtype: object"
      ]
     },
     "execution_count": 27,
     "metadata": {},
     "output_type": "execute_result"
    }
   ],
   "source": [
    "sr[1:2]"
   ]
  },
  {
   "cell_type": "code",
   "execution_count": 28,
   "id": "f26a3df6",
   "metadata": {},
   "outputs": [
    {
     "data": {
      "text/plain": [
       "Birthday    2010-02-32\n",
       "Sex             Female\n",
       "dtype: object"
      ]
     },
     "execution_count": 28,
     "metadata": {},
     "output_type": "execute_result"
    }
   ],
   "source": [
    "sr['Birthday':'Sex']"
   ]
  },
  {
   "cell_type": "code",
   "execution_count": 1,
   "id": "d8d3b553",
   "metadata": {},
   "outputs": [
    {
     "ename": "NameError",
     "evalue": "name 'df' is not defined",
     "output_type": "error",
     "traceback": [
      "\u001b[0;31m---------------------------------------------------------------------------\u001b[0m",
      "\u001b[0;31mNameError\u001b[0m                                 Traceback (most recent call last)",
      "\u001b[0;32m<ipython-input-1-2f6f6606aa2c>\u001b[0m in \u001b[0;36m<module>\u001b[0;34m\u001b[0m\n\u001b[0;32m----> 1\u001b[0;31m \u001b[0mdf\u001b[0m\u001b[0;34m.\u001b[0m\u001b[0mcorr\u001b[0m\u001b[0;34m(\u001b[0m\u001b[0;34m)\u001b[0m\u001b[0;34m\u001b[0m\u001b[0;34m\u001b[0m\u001b[0m\n\u001b[0m",
      "\u001b[0;31mNameError\u001b[0m: name 'df' is not defined"
     ]
    }
   ],
   "source": []
  },
  {
   "cell_type": "code",
   "execution_count": null,
   "id": "30ce0c2c",
   "metadata": {},
   "outputs": [],
   "source": []
  }
 ],
 "metadata": {
  "kernelspec": {
   "display_name": "Python 3",
   "language": "python",
   "name": "python3"
  },
  "language_info": {
   "codemirror_mode": {
    "name": "ipython",
    "version": 3
   },
   "file_extension": ".py",
   "mimetype": "text/x-python",
   "name": "python",
   "nbconvert_exporter": "python",
   "pygments_lexer": "ipython3",
   "version": "3.8.8"
  }
 },
 "nbformat": 4,
 "nbformat_minor": 5
}
