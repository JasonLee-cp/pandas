{
 "cells": [
  {
   "cell_type": "code",
   "execution_count": 1,
   "id": "0dc19ff4",
   "metadata": {},
   "outputs": [],
   "source": [
    "import pandas as pd\n",
    "import numpy as np\n",
    "import matplotlib.pyplot as plt"
   ]
  },
  {
   "cell_type": "code",
   "execution_count": 2,
   "id": "8cbec8a1",
   "metadata": {},
   "outputs": [],
   "source": [
    "mat = np.array([[1,2,3],[4,5,6],[7,8,9]])"
   ]
  },
  {
   "cell_type": "code",
   "execution_count": 3,
   "id": "6ddc9e7a",
   "metadata": {
    "scrolled": true
   },
   "outputs": [
    {
     "data": {
      "text/plain": [
       "array([[1, 2, 3],\n",
       "       [4, 5, 6],\n",
       "       [7, 8, 9]])"
      ]
     },
     "execution_count": 3,
     "metadata": {},
     "output_type": "execute_result"
    }
   ],
   "source": [
    "mat"
   ]
  },
  {
   "cell_type": "code",
   "execution_count": 4,
   "id": "9ca2d6db",
   "metadata": {},
   "outputs": [
    {
     "data": {
      "text/plain": [
       "array([[12, 15, 18]])"
      ]
     },
     "execution_count": 4,
     "metadata": {},
     "output_type": "execute_result"
    }
   ],
   "source": [
    "s = np.sum(mat, axis = 0, keepdims=True)\n",
    "s\n"
   ]
  },
  {
   "cell_type": "code",
   "execution_count": 5,
   "id": "7e01404f",
   "metadata": {},
   "outputs": [
    {
     "data": {
      "text/plain": [
       "(3, 3)"
      ]
     },
     "execution_count": 5,
     "metadata": {},
     "output_type": "execute_result"
    }
   ],
   "source": [
    "mat.shape"
   ]
  },
  {
   "cell_type": "code",
   "execution_count": 6,
   "id": "df480b43",
   "metadata": {},
   "outputs": [
    {
     "data": {
      "text/plain": [
       "(1, 3)"
      ]
     },
     "execution_count": 6,
     "metadata": {},
     "output_type": "execute_result"
    }
   ],
   "source": [
    "s.shape"
   ]
  },
  {
   "cell_type": "code",
   "execution_count": 7,
   "id": "fbcf0714",
   "metadata": {},
   "outputs": [
    {
     "data": {
      "text/plain": [
       "array([[-11, -13, -15],\n",
       "       [ -8, -10, -12],\n",
       "       [ -5,  -7,  -9]])"
      ]
     },
     "execution_count": 7,
     "metadata": {},
     "output_type": "execute_result"
    }
   ],
   "source": [
    "mat - s"
   ]
  },
  {
   "cell_type": "code",
   "execution_count": 9,
   "id": "bec05bbf",
   "metadata": {},
   "outputs": [],
   "source": [
    "s = s.reshape(3,1)"
   ]
  },
  {
   "cell_type": "code",
   "execution_count": 10,
   "id": "ffce1ce1",
   "metadata": {},
   "outputs": [
    {
     "name": "stdout",
     "output_type": "stream",
     "text": [
      "(3, 3)\n",
      "(3, 1)\n"
     ]
    }
   ],
   "source": [
    "print(mat.shape)\n",
    "print(s.shape)"
   ]
  },
  {
   "cell_type": "code",
   "execution_count": 11,
   "id": "385d7e98",
   "metadata": {
    "scrolled": true
   },
   "outputs": [
    {
     "data": {
      "text/plain": [
       "array([[-11, -10,  -9],\n",
       "       [-11, -10,  -9],\n",
       "       [-11, -10,  -9]])"
      ]
     },
     "execution_count": 11,
     "metadata": {},
     "output_type": "execute_result"
    }
   ],
   "source": [
    "mat - s"
   ]
  },
  {
   "cell_type": "code",
   "execution_count": 12,
   "id": "77aca6db",
   "metadata": {},
   "outputs": [
    {
     "data": {
      "text/plain": [
       "array([[1, 2, 3],\n",
       "       [4, 5, 6],\n",
       "       [7, 8, 9]])"
      ]
     },
     "execution_count": 12,
     "metadata": {},
     "output_type": "execute_result"
    }
   ],
   "source": [
    "mat"
   ]
  },
  {
   "cell_type": "code",
   "execution_count": 13,
   "id": "83480e90",
   "metadata": {},
   "outputs": [
    {
     "data": {
      "text/plain": [
       "array([[12],\n",
       "       [15],\n",
       "       [18]])"
      ]
     },
     "execution_count": 13,
     "metadata": {},
     "output_type": "execute_result"
    }
   ],
   "source": [
    "s"
   ]
  },
  {
   "cell_type": "code",
   "execution_count": 14,
   "id": "99ff721d",
   "metadata": {},
   "outputs": [
    {
     "data": {
      "text/plain": [
       "array([[-11, -10,  -9],\n",
       "       [-11, -10,  -9],\n",
       "       [-11, -10,  -9]])"
      ]
     },
     "execution_count": 14,
     "metadata": {},
     "output_type": "execute_result"
    }
   ],
   "source": [
    "mat - s"
   ]
  },
  {
   "cell_type": "code",
   "execution_count": null,
   "id": "1a96e482",
   "metadata": {},
   "outputs": [],
   "source": []
  },
  {
   "cell_type": "code",
   "execution_count": null,
   "id": "291e7626",
   "metadata": {},
   "outputs": [],
   "source": []
  },
  {
   "cell_type": "code",
   "execution_count": 20,
   "id": "0fc738e9",
   "metadata": {},
   "outputs": [],
   "source": [
    "from matplotlib import font_manager, rc\n",
    "\n",
    "rc('font', family='AppleGothic')"
   ]
  },
  {
   "cell_type": "code",
   "execution_count": 21,
   "id": "9209836f",
   "metadata": {},
   "outputs": [],
   "source": [
    "df = pd.read_excel('../../../05000266/part4/시도별 전출입 인구수.xlsx', engine='openpyxl', header=0)"
   ]
  },
  {
   "cell_type": "code",
   "execution_count": 22,
   "id": "d56a5623",
   "metadata": {},
   "outputs": [],
   "source": [
    "df = df.fillna(method=\"ffill\")"
   ]
  },
  {
   "cell_type": "code",
   "execution_count": 23,
   "id": "98477813",
   "metadata": {},
   "outputs": [
    {
     "data": {
      "text/html": [
       "<div>\n",
       "<style scoped>\n",
       "    .dataframe tbody tr th:only-of-type {\n",
       "        vertical-align: middle;\n",
       "    }\n",
       "\n",
       "    .dataframe tbody tr th {\n",
       "        vertical-align: top;\n",
       "    }\n",
       "\n",
       "    .dataframe thead th {\n",
       "        text-align: right;\n",
       "    }\n",
       "</style>\n",
       "<table border=\"1\" class=\"dataframe\">\n",
       "  <thead>\n",
       "    <tr style=\"text-align: right;\">\n",
       "      <th></th>\n",
       "      <th>전입지별</th>\n",
       "      <th>1970</th>\n",
       "      <th>1971</th>\n",
       "      <th>1972</th>\n",
       "      <th>1973</th>\n",
       "      <th>1974</th>\n",
       "      <th>1975</th>\n",
       "      <th>1976</th>\n",
       "      <th>1977</th>\n",
       "      <th>1978</th>\n",
       "      <th>...</th>\n",
       "      <th>2008</th>\n",
       "      <th>2009</th>\n",
       "      <th>2010</th>\n",
       "      <th>2011</th>\n",
       "      <th>2012</th>\n",
       "      <th>2013</th>\n",
       "      <th>2014</th>\n",
       "      <th>2015</th>\n",
       "      <th>2016</th>\n",
       "      <th>2017</th>\n",
       "    </tr>\n",
       "  </thead>\n",
       "  <tbody>\n",
       "    <tr>\n",
       "      <th>19</th>\n",
       "      <td>전국</td>\n",
       "      <td>1448985</td>\n",
       "      <td>1419016</td>\n",
       "      <td>1210559</td>\n",
       "      <td>1647268</td>\n",
       "      <td>1819660</td>\n",
       "      <td>2937093</td>\n",
       "      <td>2495620</td>\n",
       "      <td>2678007</td>\n",
       "      <td>3028911</td>\n",
       "      <td>...</td>\n",
       "      <td>2083352</td>\n",
       "      <td>1925452</td>\n",
       "      <td>1848038</td>\n",
       "      <td>1834806</td>\n",
       "      <td>1658928</td>\n",
       "      <td>1620640</td>\n",
       "      <td>1661425</td>\n",
       "      <td>1726687</td>\n",
       "      <td>1655859</td>\n",
       "      <td>1571423</td>\n",
       "    </tr>\n",
       "    <tr>\n",
       "      <th>21</th>\n",
       "      <td>부산광역시</td>\n",
       "      <td>11568</td>\n",
       "      <td>11130</td>\n",
       "      <td>11768</td>\n",
       "      <td>16307</td>\n",
       "      <td>22220</td>\n",
       "      <td>27515</td>\n",
       "      <td>23732</td>\n",
       "      <td>27213</td>\n",
       "      <td>29856</td>\n",
       "      <td>...</td>\n",
       "      <td>17353</td>\n",
       "      <td>17738</td>\n",
       "      <td>17418</td>\n",
       "      <td>18816</td>\n",
       "      <td>16135</td>\n",
       "      <td>16153</td>\n",
       "      <td>17320</td>\n",
       "      <td>17009</td>\n",
       "      <td>15062</td>\n",
       "      <td>14484</td>\n",
       "    </tr>\n",
       "    <tr>\n",
       "      <th>22</th>\n",
       "      <td>대구광역시</td>\n",
       "      <td>-</td>\n",
       "      <td>-</td>\n",
       "      <td>-</td>\n",
       "      <td>-</td>\n",
       "      <td>-</td>\n",
       "      <td>-</td>\n",
       "      <td>-</td>\n",
       "      <td>-</td>\n",
       "      <td>-</td>\n",
       "      <td>...</td>\n",
       "      <td>9720</td>\n",
       "      <td>10464</td>\n",
       "      <td>10277</td>\n",
       "      <td>10397</td>\n",
       "      <td>10135</td>\n",
       "      <td>10631</td>\n",
       "      <td>10062</td>\n",
       "      <td>10191</td>\n",
       "      <td>9623</td>\n",
       "      <td>8891</td>\n",
       "    </tr>\n",
       "    <tr>\n",
       "      <th>23</th>\n",
       "      <td>인천광역시</td>\n",
       "      <td>-</td>\n",
       "      <td>-</td>\n",
       "      <td>-</td>\n",
       "      <td>-</td>\n",
       "      <td>-</td>\n",
       "      <td>-</td>\n",
       "      <td>-</td>\n",
       "      <td>-</td>\n",
       "      <td>-</td>\n",
       "      <td>...</td>\n",
       "      <td>50493</td>\n",
       "      <td>45392</td>\n",
       "      <td>46082</td>\n",
       "      <td>51641</td>\n",
       "      <td>49640</td>\n",
       "      <td>47424</td>\n",
       "      <td>43212</td>\n",
       "      <td>44915</td>\n",
       "      <td>43745</td>\n",
       "      <td>40485</td>\n",
       "    </tr>\n",
       "    <tr>\n",
       "      <th>24</th>\n",
       "      <td>광주광역시</td>\n",
       "      <td>-</td>\n",
       "      <td>-</td>\n",
       "      <td>-</td>\n",
       "      <td>-</td>\n",
       "      <td>-</td>\n",
       "      <td>-</td>\n",
       "      <td>-</td>\n",
       "      <td>-</td>\n",
       "      <td>-</td>\n",
       "      <td>...</td>\n",
       "      <td>10846</td>\n",
       "      <td>11725</td>\n",
       "      <td>11095</td>\n",
       "      <td>10587</td>\n",
       "      <td>10154</td>\n",
       "      <td>9129</td>\n",
       "      <td>9759</td>\n",
       "      <td>9216</td>\n",
       "      <td>8354</td>\n",
       "      <td>7932</td>\n",
       "    </tr>\n",
       "  </tbody>\n",
       "</table>\n",
       "<p>5 rows × 49 columns</p>\n",
       "</div>"
      ],
      "text/plain": [
       "     전입지별     1970     1971     1972     1973     1974     1975     1976  \\\n",
       "19     전국  1448985  1419016  1210559  1647268  1819660  2937093  2495620   \n",
       "21  부산광역시    11568    11130    11768    16307    22220    27515    23732   \n",
       "22  대구광역시        -        -        -        -        -        -        -   \n",
       "23  인천광역시        -        -        -        -        -        -        -   \n",
       "24  광주광역시        -        -        -        -        -        -        -   \n",
       "\n",
       "       1977     1978  ...     2008     2009     2010     2011     2012  \\\n",
       "19  2678007  3028911  ...  2083352  1925452  1848038  1834806  1658928   \n",
       "21    27213    29856  ...    17353    17738    17418    18816    16135   \n",
       "22        -        -  ...     9720    10464    10277    10397    10135   \n",
       "23        -        -  ...    50493    45392    46082    51641    49640   \n",
       "24        -        -  ...    10846    11725    11095    10587    10154   \n",
       "\n",
       "       2013     2014     2015     2016     2017  \n",
       "19  1620640  1661425  1726687  1655859  1571423  \n",
       "21    16153    17320    17009    15062    14484  \n",
       "22    10631    10062    10191     9623     8891  \n",
       "23    47424    43212    44915    43745    40485  \n",
       "24     9129     9759     9216     8354     7932  \n",
       "\n",
       "[5 rows x 49 columns]"
      ]
     },
     "execution_count": 23,
     "metadata": {},
     "output_type": "execute_result"
    }
   ],
   "source": [
    "df = df[(df['전출지별'] == '서울특별시') & (df['전입지별'] != '서울특별시')]\n",
    "df = df.drop('전출지별', axis = 1)\n",
    "df.head()"
   ]
  },
  {
   "cell_type": "code",
   "execution_count": 24,
   "id": "ca3535d6",
   "metadata": {},
   "outputs": [
    {
     "data": {
      "text/html": [
       "<div>\n",
       "<style scoped>\n",
       "    .dataframe tbody tr th:only-of-type {\n",
       "        vertical-align: middle;\n",
       "    }\n",
       "\n",
       "    .dataframe tbody tr th {\n",
       "        vertical-align: top;\n",
       "    }\n",
       "\n",
       "    .dataframe thead th {\n",
       "        text-align: right;\n",
       "    }\n",
       "</style>\n",
       "<table border=\"1\" class=\"dataframe\">\n",
       "  <thead>\n",
       "    <tr style=\"text-align: right;\">\n",
       "      <th></th>\n",
       "      <th>전입지</th>\n",
       "      <th>1970</th>\n",
       "      <th>1971</th>\n",
       "      <th>1972</th>\n",
       "      <th>1973</th>\n",
       "      <th>1974</th>\n",
       "      <th>1975</th>\n",
       "      <th>1976</th>\n",
       "      <th>1977</th>\n",
       "      <th>1978</th>\n",
       "      <th>...</th>\n",
       "      <th>2008</th>\n",
       "      <th>2009</th>\n",
       "      <th>2010</th>\n",
       "      <th>2011</th>\n",
       "      <th>2012</th>\n",
       "      <th>2013</th>\n",
       "      <th>2014</th>\n",
       "      <th>2015</th>\n",
       "      <th>2016</th>\n",
       "      <th>2017</th>\n",
       "    </tr>\n",
       "  </thead>\n",
       "  <tbody>\n",
       "    <tr>\n",
       "      <th>19</th>\n",
       "      <td>전국</td>\n",
       "      <td>1448985</td>\n",
       "      <td>1419016</td>\n",
       "      <td>1210559</td>\n",
       "      <td>1647268</td>\n",
       "      <td>1819660</td>\n",
       "      <td>2937093</td>\n",
       "      <td>2495620</td>\n",
       "      <td>2678007</td>\n",
       "      <td>3028911</td>\n",
       "      <td>...</td>\n",
       "      <td>2083352</td>\n",
       "      <td>1925452</td>\n",
       "      <td>1848038</td>\n",
       "      <td>1834806</td>\n",
       "      <td>1658928</td>\n",
       "      <td>1620640</td>\n",
       "      <td>1661425</td>\n",
       "      <td>1726687</td>\n",
       "      <td>1655859</td>\n",
       "      <td>1571423</td>\n",
       "    </tr>\n",
       "    <tr>\n",
       "      <th>21</th>\n",
       "      <td>부산광역시</td>\n",
       "      <td>11568</td>\n",
       "      <td>11130</td>\n",
       "      <td>11768</td>\n",
       "      <td>16307</td>\n",
       "      <td>22220</td>\n",
       "      <td>27515</td>\n",
       "      <td>23732</td>\n",
       "      <td>27213</td>\n",
       "      <td>29856</td>\n",
       "      <td>...</td>\n",
       "      <td>17353</td>\n",
       "      <td>17738</td>\n",
       "      <td>17418</td>\n",
       "      <td>18816</td>\n",
       "      <td>16135</td>\n",
       "      <td>16153</td>\n",
       "      <td>17320</td>\n",
       "      <td>17009</td>\n",
       "      <td>15062</td>\n",
       "      <td>14484</td>\n",
       "    </tr>\n",
       "    <tr>\n",
       "      <th>22</th>\n",
       "      <td>대구광역시</td>\n",
       "      <td>-</td>\n",
       "      <td>-</td>\n",
       "      <td>-</td>\n",
       "      <td>-</td>\n",
       "      <td>-</td>\n",
       "      <td>-</td>\n",
       "      <td>-</td>\n",
       "      <td>-</td>\n",
       "      <td>-</td>\n",
       "      <td>...</td>\n",
       "      <td>9720</td>\n",
       "      <td>10464</td>\n",
       "      <td>10277</td>\n",
       "      <td>10397</td>\n",
       "      <td>10135</td>\n",
       "      <td>10631</td>\n",
       "      <td>10062</td>\n",
       "      <td>10191</td>\n",
       "      <td>9623</td>\n",
       "      <td>8891</td>\n",
       "    </tr>\n",
       "    <tr>\n",
       "      <th>23</th>\n",
       "      <td>인천광역시</td>\n",
       "      <td>-</td>\n",
       "      <td>-</td>\n",
       "      <td>-</td>\n",
       "      <td>-</td>\n",
       "      <td>-</td>\n",
       "      <td>-</td>\n",
       "      <td>-</td>\n",
       "      <td>-</td>\n",
       "      <td>-</td>\n",
       "      <td>...</td>\n",
       "      <td>50493</td>\n",
       "      <td>45392</td>\n",
       "      <td>46082</td>\n",
       "      <td>51641</td>\n",
       "      <td>49640</td>\n",
       "      <td>47424</td>\n",
       "      <td>43212</td>\n",
       "      <td>44915</td>\n",
       "      <td>43745</td>\n",
       "      <td>40485</td>\n",
       "    </tr>\n",
       "    <tr>\n",
       "      <th>24</th>\n",
       "      <td>광주광역시</td>\n",
       "      <td>-</td>\n",
       "      <td>-</td>\n",
       "      <td>-</td>\n",
       "      <td>-</td>\n",
       "      <td>-</td>\n",
       "      <td>-</td>\n",
       "      <td>-</td>\n",
       "      <td>-</td>\n",
       "      <td>-</td>\n",
       "      <td>...</td>\n",
       "      <td>10846</td>\n",
       "      <td>11725</td>\n",
       "      <td>11095</td>\n",
       "      <td>10587</td>\n",
       "      <td>10154</td>\n",
       "      <td>9129</td>\n",
       "      <td>9759</td>\n",
       "      <td>9216</td>\n",
       "      <td>8354</td>\n",
       "      <td>7932</td>\n",
       "    </tr>\n",
       "  </tbody>\n",
       "</table>\n",
       "<p>5 rows × 49 columns</p>\n",
       "</div>"
      ],
      "text/plain": [
       "      전입지     1970     1971     1972     1973     1974     1975     1976  \\\n",
       "19     전국  1448985  1419016  1210559  1647268  1819660  2937093  2495620   \n",
       "21  부산광역시    11568    11130    11768    16307    22220    27515    23732   \n",
       "22  대구광역시        -        -        -        -        -        -        -   \n",
       "23  인천광역시        -        -        -        -        -        -        -   \n",
       "24  광주광역시        -        -        -        -        -        -        -   \n",
       "\n",
       "       1977     1978  ...     2008     2009     2010     2011     2012  \\\n",
       "19  2678007  3028911  ...  2083352  1925452  1848038  1834806  1658928   \n",
       "21    27213    29856  ...    17353    17738    17418    18816    16135   \n",
       "22        -        -  ...     9720    10464    10277    10397    10135   \n",
       "23        -        -  ...    50493    45392    46082    51641    49640   \n",
       "24        -        -  ...    10846    11725    11095    10587    10154   \n",
       "\n",
       "       2013     2014     2015     2016     2017  \n",
       "19  1620640  1661425  1726687  1655859  1571423  \n",
       "21    16153    17320    17009    15062    14484  \n",
       "22    10631    10062    10191     9623     8891  \n",
       "23    47424    43212    44915    43745    40485  \n",
       "24     9129     9759     9216     8354     7932  \n",
       "\n",
       "[5 rows x 49 columns]"
      ]
     },
     "execution_count": 24,
     "metadata": {},
     "output_type": "execute_result"
    }
   ],
   "source": [
    "df.rename(columns={'전입지별':'전입지'}, inplace=True)\n",
    "df.head()"
   ]
  },
  {
   "cell_type": "code",
   "execution_count": 25,
   "id": "01411fa2",
   "metadata": {},
   "outputs": [],
   "source": [
    "df.set_index('전입지', inplace=True)"
   ]
  },
  {
   "cell_type": "code",
   "execution_count": 27,
   "id": "27d15158",
   "metadata": {},
   "outputs": [
    {
     "data": {
      "text/html": [
       "<div>\n",
       "<style scoped>\n",
       "    .dataframe tbody tr th:only-of-type {\n",
       "        vertical-align: middle;\n",
       "    }\n",
       "\n",
       "    .dataframe tbody tr th {\n",
       "        vertical-align: top;\n",
       "    }\n",
       "\n",
       "    .dataframe thead th {\n",
       "        text-align: right;\n",
       "    }\n",
       "</style>\n",
       "<table border=\"1\" class=\"dataframe\">\n",
       "  <thead>\n",
       "    <tr style=\"text-align: right;\">\n",
       "      <th></th>\n",
       "      <th>1970</th>\n",
       "      <th>1971</th>\n",
       "      <th>1972</th>\n",
       "      <th>1973</th>\n",
       "      <th>1974</th>\n",
       "      <th>1975</th>\n",
       "      <th>1976</th>\n",
       "      <th>1977</th>\n",
       "      <th>1978</th>\n",
       "      <th>1979</th>\n",
       "      <th>...</th>\n",
       "      <th>2008</th>\n",
       "      <th>2009</th>\n",
       "      <th>2010</th>\n",
       "      <th>2011</th>\n",
       "      <th>2012</th>\n",
       "      <th>2013</th>\n",
       "      <th>2014</th>\n",
       "      <th>2015</th>\n",
       "      <th>2016</th>\n",
       "      <th>2017</th>\n",
       "    </tr>\n",
       "    <tr>\n",
       "      <th>전입지</th>\n",
       "      <th></th>\n",
       "      <th></th>\n",
       "      <th></th>\n",
       "      <th></th>\n",
       "      <th></th>\n",
       "      <th></th>\n",
       "      <th></th>\n",
       "      <th></th>\n",
       "      <th></th>\n",
       "      <th></th>\n",
       "      <th></th>\n",
       "      <th></th>\n",
       "      <th></th>\n",
       "      <th></th>\n",
       "      <th></th>\n",
       "      <th></th>\n",
       "      <th></th>\n",
       "      <th></th>\n",
       "      <th></th>\n",
       "      <th></th>\n",
       "      <th></th>\n",
       "    </tr>\n",
       "  </thead>\n",
       "  <tbody>\n",
       "    <tr>\n",
       "      <th>전국</th>\n",
       "      <td>1448985</td>\n",
       "      <td>1419016</td>\n",
       "      <td>1210559</td>\n",
       "      <td>1647268</td>\n",
       "      <td>1819660</td>\n",
       "      <td>2937093</td>\n",
       "      <td>2495620</td>\n",
       "      <td>2678007</td>\n",
       "      <td>3028911</td>\n",
       "      <td>2441242</td>\n",
       "      <td>...</td>\n",
       "      <td>2083352</td>\n",
       "      <td>1925452</td>\n",
       "      <td>1848038</td>\n",
       "      <td>1834806</td>\n",
       "      <td>1658928</td>\n",
       "      <td>1620640</td>\n",
       "      <td>1661425</td>\n",
       "      <td>1726687</td>\n",
       "      <td>1655859</td>\n",
       "      <td>1571423</td>\n",
       "    </tr>\n",
       "    <tr>\n",
       "      <th>부산광역시</th>\n",
       "      <td>11568</td>\n",
       "      <td>11130</td>\n",
       "      <td>11768</td>\n",
       "      <td>16307</td>\n",
       "      <td>22220</td>\n",
       "      <td>27515</td>\n",
       "      <td>23732</td>\n",
       "      <td>27213</td>\n",
       "      <td>29856</td>\n",
       "      <td>28542</td>\n",
       "      <td>...</td>\n",
       "      <td>17353</td>\n",
       "      <td>17738</td>\n",
       "      <td>17418</td>\n",
       "      <td>18816</td>\n",
       "      <td>16135</td>\n",
       "      <td>16153</td>\n",
       "      <td>17320</td>\n",
       "      <td>17009</td>\n",
       "      <td>15062</td>\n",
       "      <td>14484</td>\n",
       "    </tr>\n",
       "    <tr>\n",
       "      <th>대구광역시</th>\n",
       "      <td>-</td>\n",
       "      <td>-</td>\n",
       "      <td>-</td>\n",
       "      <td>-</td>\n",
       "      <td>-</td>\n",
       "      <td>-</td>\n",
       "      <td>-</td>\n",
       "      <td>-</td>\n",
       "      <td>-</td>\n",
       "      <td>-</td>\n",
       "      <td>...</td>\n",
       "      <td>9720</td>\n",
       "      <td>10464</td>\n",
       "      <td>10277</td>\n",
       "      <td>10397</td>\n",
       "      <td>10135</td>\n",
       "      <td>10631</td>\n",
       "      <td>10062</td>\n",
       "      <td>10191</td>\n",
       "      <td>9623</td>\n",
       "      <td>8891</td>\n",
       "    </tr>\n",
       "    <tr>\n",
       "      <th>인천광역시</th>\n",
       "      <td>-</td>\n",
       "      <td>-</td>\n",
       "      <td>-</td>\n",
       "      <td>-</td>\n",
       "      <td>-</td>\n",
       "      <td>-</td>\n",
       "      <td>-</td>\n",
       "      <td>-</td>\n",
       "      <td>-</td>\n",
       "      <td>-</td>\n",
       "      <td>...</td>\n",
       "      <td>50493</td>\n",
       "      <td>45392</td>\n",
       "      <td>46082</td>\n",
       "      <td>51641</td>\n",
       "      <td>49640</td>\n",
       "      <td>47424</td>\n",
       "      <td>43212</td>\n",
       "      <td>44915</td>\n",
       "      <td>43745</td>\n",
       "      <td>40485</td>\n",
       "    </tr>\n",
       "    <tr>\n",
       "      <th>광주광역시</th>\n",
       "      <td>-</td>\n",
       "      <td>-</td>\n",
       "      <td>-</td>\n",
       "      <td>-</td>\n",
       "      <td>-</td>\n",
       "      <td>-</td>\n",
       "      <td>-</td>\n",
       "      <td>-</td>\n",
       "      <td>-</td>\n",
       "      <td>-</td>\n",
       "      <td>...</td>\n",
       "      <td>10846</td>\n",
       "      <td>11725</td>\n",
       "      <td>11095</td>\n",
       "      <td>10587</td>\n",
       "      <td>10154</td>\n",
       "      <td>9129</td>\n",
       "      <td>9759</td>\n",
       "      <td>9216</td>\n",
       "      <td>8354</td>\n",
       "      <td>7932</td>\n",
       "    </tr>\n",
       "  </tbody>\n",
       "</table>\n",
       "<p>5 rows × 48 columns</p>\n",
       "</div>"
      ],
      "text/plain": [
       "          1970     1971     1972     1973     1974     1975     1976     1977  \\\n",
       "전입지                                                                             \n",
       "전국     1448985  1419016  1210559  1647268  1819660  2937093  2495620  2678007   \n",
       "부산광역시    11568    11130    11768    16307    22220    27515    23732    27213   \n",
       "대구광역시        -        -        -        -        -        -        -        -   \n",
       "인천광역시        -        -        -        -        -        -        -        -   \n",
       "광주광역시        -        -        -        -        -        -        -        -   \n",
       "\n",
       "          1978     1979  ...     2008     2009     2010     2011     2012  \\\n",
       "전입지                      ...                                                \n",
       "전국     3028911  2441242  ...  2083352  1925452  1848038  1834806  1658928   \n",
       "부산광역시    29856    28542  ...    17353    17738    17418    18816    16135   \n",
       "대구광역시        -        -  ...     9720    10464    10277    10397    10135   \n",
       "인천광역시        -        -  ...    50493    45392    46082    51641    49640   \n",
       "광주광역시        -        -  ...    10846    11725    11095    10587    10154   \n",
       "\n",
       "          2013     2014     2015     2016     2017  \n",
       "전입지                                                 \n",
       "전국     1620640  1661425  1726687  1655859  1571423  \n",
       "부산광역시    16153    17320    17009    15062    14484  \n",
       "대구광역시    10631    10062    10191     9623     8891  \n",
       "인천광역시    47424    43212    44915    43745    40485  \n",
       "광주광역시     9129     9759     9216     8354     7932  \n",
       "\n",
       "[5 rows x 48 columns]"
      ]
     },
     "execution_count": 27,
     "metadata": {},
     "output_type": "execute_result"
    }
   ],
   "source": [
    "df.head()"
   ]
  },
  {
   "cell_type": "code",
   "execution_count": 29,
   "id": "4eb58562",
   "metadata": {},
   "outputs": [
    {
     "data": {
      "text/html": [
       "<div>\n",
       "<style scoped>\n",
       "    .dataframe tbody tr th:only-of-type {\n",
       "        vertical-align: middle;\n",
       "    }\n",
       "\n",
       "    .dataframe tbody tr th {\n",
       "        vertical-align: top;\n",
       "    }\n",
       "\n",
       "    .dataframe thead th {\n",
       "        text-align: right;\n",
       "    }\n",
       "</style>\n",
       "<table border=\"1\" class=\"dataframe\">\n",
       "  <thead>\n",
       "    <tr style=\"text-align: right;\">\n",
       "      <th></th>\n",
       "      <th>1970</th>\n",
       "      <th>1971</th>\n",
       "      <th>1972</th>\n",
       "      <th>1973</th>\n",
       "      <th>1974</th>\n",
       "      <th>1975</th>\n",
       "      <th>1976</th>\n",
       "      <th>1977</th>\n",
       "      <th>1978</th>\n",
       "      <th>1979</th>\n",
       "      <th>...</th>\n",
       "      <th>2008</th>\n",
       "      <th>2009</th>\n",
       "      <th>2010</th>\n",
       "      <th>2011</th>\n",
       "      <th>2012</th>\n",
       "      <th>2013</th>\n",
       "      <th>2014</th>\n",
       "      <th>2015</th>\n",
       "      <th>2016</th>\n",
       "      <th>2017</th>\n",
       "    </tr>\n",
       "    <tr>\n",
       "      <th>전입지</th>\n",
       "      <th></th>\n",
       "      <th></th>\n",
       "      <th></th>\n",
       "      <th></th>\n",
       "      <th></th>\n",
       "      <th></th>\n",
       "      <th></th>\n",
       "      <th></th>\n",
       "      <th></th>\n",
       "      <th></th>\n",
       "      <th></th>\n",
       "      <th></th>\n",
       "      <th></th>\n",
       "      <th></th>\n",
       "      <th></th>\n",
       "      <th></th>\n",
       "      <th></th>\n",
       "      <th></th>\n",
       "      <th></th>\n",
       "      <th></th>\n",
       "      <th></th>\n",
       "    </tr>\n",
       "  </thead>\n",
       "  <tbody>\n",
       "    <tr>\n",
       "      <th>충청남도</th>\n",
       "      <td>15954</td>\n",
       "      <td>18943</td>\n",
       "      <td>23406</td>\n",
       "      <td>27139</td>\n",
       "      <td>25509</td>\n",
       "      <td>51205</td>\n",
       "      <td>41447</td>\n",
       "      <td>43993</td>\n",
       "      <td>48091</td>\n",
       "      <td>45388</td>\n",
       "      <td>...</td>\n",
       "      <td>27458</td>\n",
       "      <td>24889</td>\n",
       "      <td>24522</td>\n",
       "      <td>24723</td>\n",
       "      <td>22269</td>\n",
       "      <td>21486</td>\n",
       "      <td>21473</td>\n",
       "      <td>22299</td>\n",
       "      <td>21741</td>\n",
       "      <td>21020</td>\n",
       "    </tr>\n",
       "    <tr>\n",
       "      <th>경상북도</th>\n",
       "      <td>11868</td>\n",
       "      <td>16459</td>\n",
       "      <td>22073</td>\n",
       "      <td>27531</td>\n",
       "      <td>26902</td>\n",
       "      <td>46177</td>\n",
       "      <td>40376</td>\n",
       "      <td>41155</td>\n",
       "      <td>42940</td>\n",
       "      <td>43565</td>\n",
       "      <td>...</td>\n",
       "      <td>15425</td>\n",
       "      <td>16569</td>\n",
       "      <td>16042</td>\n",
       "      <td>15818</td>\n",
       "      <td>15191</td>\n",
       "      <td>14420</td>\n",
       "      <td>14456</td>\n",
       "      <td>15113</td>\n",
       "      <td>14236</td>\n",
       "      <td>12464</td>\n",
       "    </tr>\n",
       "    <tr>\n",
       "      <th>강원도</th>\n",
       "      <td>9352</td>\n",
       "      <td>12885</td>\n",
       "      <td>13561</td>\n",
       "      <td>16481</td>\n",
       "      <td>15479</td>\n",
       "      <td>27837</td>\n",
       "      <td>25927</td>\n",
       "      <td>25415</td>\n",
       "      <td>26700</td>\n",
       "      <td>27599</td>\n",
       "      <td>...</td>\n",
       "      <td>23668</td>\n",
       "      <td>23331</td>\n",
       "      <td>22736</td>\n",
       "      <td>23624</td>\n",
       "      <td>22332</td>\n",
       "      <td>20601</td>\n",
       "      <td>21173</td>\n",
       "      <td>22659</td>\n",
       "      <td>21590</td>\n",
       "      <td>21016</td>\n",
       "    </tr>\n",
       "    <tr>\n",
       "      <th>전라남도</th>\n",
       "      <td>10513</td>\n",
       "      <td>16755</td>\n",
       "      <td>20157</td>\n",
       "      <td>22160</td>\n",
       "      <td>21314</td>\n",
       "      <td>46610</td>\n",
       "      <td>46251</td>\n",
       "      <td>43430</td>\n",
       "      <td>44624</td>\n",
       "      <td>47934</td>\n",
       "      <td>...</td>\n",
       "      <td>16601</td>\n",
       "      <td>17468</td>\n",
       "      <td>16429</td>\n",
       "      <td>15974</td>\n",
       "      <td>14765</td>\n",
       "      <td>14187</td>\n",
       "      <td>14591</td>\n",
       "      <td>14598</td>\n",
       "      <td>13065</td>\n",
       "      <td>12426</td>\n",
       "    </tr>\n",
       "  </tbody>\n",
       "</table>\n",
       "<p>4 rows × 48 columns</p>\n",
       "</div>"
      ],
      "text/plain": [
       "       1970   1971   1972   1973   1974   1975   1976   1977   1978   1979  \\\n",
       "전입지                                                                          \n",
       "충청남도  15954  18943  23406  27139  25509  51205  41447  43993  48091  45388   \n",
       "경상북도  11868  16459  22073  27531  26902  46177  40376  41155  42940  43565   \n",
       "강원도    9352  12885  13561  16481  15479  27837  25927  25415  26700  27599   \n",
       "전라남도  10513  16755  20157  22160  21314  46610  46251  43430  44624  47934   \n",
       "\n",
       "      ...   2008   2009   2010   2011   2012   2013   2014   2015   2016  \\\n",
       "전입지   ...                                                                  \n",
       "충청남도  ...  27458  24889  24522  24723  22269  21486  21473  22299  21741   \n",
       "경상북도  ...  15425  16569  16042  15818  15191  14420  14456  15113  14236   \n",
       "강원도   ...  23668  23331  22736  23624  22332  20601  21173  22659  21590   \n",
       "전라남도  ...  16601  17468  16429  15974  14765  14187  14591  14598  13065   \n",
       "\n",
       "       2017  \n",
       "전입지          \n",
       "충청남도  21020  \n",
       "경상북도  12464  \n",
       "강원도   21016  \n",
       "전라남도  12426  \n",
       "\n",
       "[4 rows x 48 columns]"
      ]
     },
     "execution_count": 29,
     "metadata": {},
     "output_type": "execute_result"
    }
   ],
   "source": [
    "df = df.loc[['충청남도', '경상북도', '강원도', '전라남도']]\n",
    "df"
   ]
  },
  {
   "cell_type": "code",
   "execution_count": 32,
   "id": "b2f1ac9a",
   "metadata": {},
   "outputs": [
    {
     "data": {
      "text/html": [
       "<div>\n",
       "<style scoped>\n",
       "    .dataframe tbody tr th:only-of-type {\n",
       "        vertical-align: middle;\n",
       "    }\n",
       "\n",
       "    .dataframe tbody tr th {\n",
       "        vertical-align: top;\n",
       "    }\n",
       "\n",
       "    .dataframe thead th {\n",
       "        text-align: right;\n",
       "    }\n",
       "</style>\n",
       "<table border=\"1\" class=\"dataframe\">\n",
       "  <thead>\n",
       "    <tr style=\"text-align: right;\">\n",
       "      <th>전입지</th>\n",
       "      <th>충청남도</th>\n",
       "      <th>경상북도</th>\n",
       "      <th>강원도</th>\n",
       "      <th>전라남도</th>\n",
       "    </tr>\n",
       "  </thead>\n",
       "  <tbody>\n",
       "    <tr>\n",
       "      <th>1970</th>\n",
       "      <td>15954</td>\n",
       "      <td>11868</td>\n",
       "      <td>9352</td>\n",
       "      <td>10513</td>\n",
       "    </tr>\n",
       "    <tr>\n",
       "      <th>1971</th>\n",
       "      <td>18943</td>\n",
       "      <td>16459</td>\n",
       "      <td>12885</td>\n",
       "      <td>16755</td>\n",
       "    </tr>\n",
       "    <tr>\n",
       "      <th>1972</th>\n",
       "      <td>23406</td>\n",
       "      <td>22073</td>\n",
       "      <td>13561</td>\n",
       "      <td>20157</td>\n",
       "    </tr>\n",
       "    <tr>\n",
       "      <th>1973</th>\n",
       "      <td>27139</td>\n",
       "      <td>27531</td>\n",
       "      <td>16481</td>\n",
       "      <td>22160</td>\n",
       "    </tr>\n",
       "    <tr>\n",
       "      <th>1974</th>\n",
       "      <td>25509</td>\n",
       "      <td>26902</td>\n",
       "      <td>15479</td>\n",
       "      <td>21314</td>\n",
       "    </tr>\n",
       "  </tbody>\n",
       "</table>\n",
       "</div>"
      ],
      "text/plain": [
       "전입지    충청남도   경상북도    강원도   전라남도\n",
       "1970  15954  11868   9352  10513\n",
       "1971  18943  16459  12885  16755\n",
       "1972  23406  22073  13561  20157\n",
       "1973  27139  27531  16481  22160\n",
       "1974  25509  26902  15479  21314"
      ]
     },
     "execution_count": 32,
     "metadata": {},
     "output_type": "execute_result"
    }
   ],
   "source": [
    "df = df.T\n",
    "df.head()"
   ]
  },
  {
   "cell_type": "code",
   "execution_count": 40,
   "id": "7df9c512",
   "metadata": {},
   "outputs": [
    {
     "data": {
      "text/plain": [
       "Index(['1970', '1971', '1972', '1973', '1974', '1975', '1976', '1977', '1978',\n",
       "       '1979', '1980', '1981', '1982', '1983', '1984', '1985', '1986', '1987',\n",
       "       '1988', '1989', '1990', '1991', '1992', '1993', '1994', '1995', '1996',\n",
       "       '1997', '1998', '1999', '2000', '2001', '2002', '2003', '2004', '2005',\n",
       "       '2006', '2007', '2008', '2009', '2010', '2011', '2012', '2013', '2014',\n",
       "       '2015', '2016', '2017'],\n",
       "      dtype='object')"
      ]
     },
     "execution_count": 40,
     "metadata": {},
     "output_type": "execute_result"
    }
   ],
   "source": [
    "df.index"
   ]
  },
  {
   "cell_type": "code",
   "execution_count": 47,
   "id": "16299015",
   "metadata": {},
   "outputs": [],
   "source": [
    "df.columns = list(map(str,df.columns))"
   ]
  },
  {
   "cell_type": "code",
   "execution_count": 51,
   "id": "3e25a30c",
   "metadata": {},
   "outputs": [],
   "source": [
    "df.index = list(map(int,df.index))"
   ]
  },
  {
   "cell_type": "code",
   "execution_count": 52,
   "id": "d6544569",
   "metadata": {},
   "outputs": [
    {
     "data": {
      "text/plain": [
       "Int64Index([1970, 1971, 1972, 1973, 1974, 1975, 1976, 1977, 1978, 1979, 1980,\n",
       "            1981, 1982, 1983, 1984, 1985, 1986, 1987, 1988, 1989, 1990, 1991,\n",
       "            1992, 1993, 1994, 1995, 1996, 1997, 1998, 1999, 2000, 2001, 2002,\n",
       "            2003, 2004, 2005, 2006, 2007, 2008, 2009, 2010, 2011, 2012, 2013,\n",
       "            2014, 2015, 2016, 2017],\n",
       "           dtype='int64')"
      ]
     },
     "execution_count": 52,
     "metadata": {},
     "output_type": "execute_result"
    }
   ],
   "source": [
    "df.index"
   ]
  },
  {
   "cell_type": "code",
   "execution_count": 60,
   "id": "56ad2ef3",
   "metadata": {},
   "outputs": [
    {
     "data": {
      "text/plain": [
       "<matplotlib.legend.Legend at 0x7f945c5dd430>"
      ]
     },
     "execution_count": 60,
     "metadata": {},
     "output_type": "execute_result"
    },
    {
     "data": {
      "image/png": "[encoded data removed]",
      "text/plain": [
       "<Figure size 1440x720 with 1 Axes>"
      ]
     },
     "metadata": {
      "needs_background": "light"
     },
     "output_type": "display_data"
    }
   ],
   "source": [
    "df.plot(kind='area', stacked=True, alpha=0.2, figsize=(20,10))\n",
    "\n",
    "plt.xlim([1970,2010])\n",
    "plt.xlabel(\"년도\", size = 20, color='red')\n",
    "plt.ylabel('전출자 수', size = 20, color='red')\n",
    "plt.legend(loc='best', fontsize=20)"
   ]
  },
  {
   "cell_type": "code",
   "execution_count": 65,
   "id": "d43798b3",
   "metadata": {},
   "outputs": [
    {
     "data": {
      "text/plain": [
       "str"
      ]
     },
     "execution_count": 65,
     "metadata": {},
     "output_type": "execute_result"
    }
   ],
   "source": [
    "type(df.index.map(str)[0])"
   ]
  },
  {
   "cell_type": "code",
   "execution_count": 66,
   "id": "ef28b7fb",
   "metadata": {},
   "outputs": [
    {
     "data": {
      "text/plain": [
       "Int64Index([1970, 1971, 1972, 1973, 1974, 1975, 1976, 1977, 1978, 1979, 1980,\n",
       "            1981, 1982, 1983, 1984, 1985, 1986, 1987, 1988, 1989, 1990, 1991,\n",
       "            1992, 1993, 1994, 1995, 1996, 1997, 1998, 1999, 2000, 2001, 2002,\n",
       "            2003, 2004, 2005, 2006, 2007, 2008, 2009, 2010, 2011, 2012, 2013,\n",
       "            2014, 2015, 2016, 2017],\n",
       "           dtype='int64')"
      ]
     },
     "execution_count": 66,
     "metadata": {},
     "output_type": "execute_result"
    }
   ],
   "source": [
    "df.index"
   ]
  },
  {
   "cell_type": "code",
   "execution_count": 69,
   "id": "ed74dcbc",
   "metadata": {
    "scrolled": true
   },
   "outputs": [
    {
     "data": {
      "text/plain": [
       "str"
      ]
     },
     "execution_count": 69,
     "metadata": {},
     "output_type": "execute_result"
    }
   ],
   "source": [
    "type(df.columns[0])"
   ]
  },
  {
   "cell_type": "code",
   "execution_count": 80,
   "id": "741d1c3d",
   "metadata": {},
   "outputs": [
    {
     "data": {
      "text/plain": [
       "Index(['1970', '1971', '1972', '1973', '1974', '1975', '1976', '1977', '1978',\n",
       "       '1979', '1980', '1981', '1982', '1983', '1984', '1985', '1986', '1987',\n",
       "       '1988', '1989'],\n",
       "      dtype='object')"
      ]
     },
     "execution_count": 80,
     "metadata": {},
     "output_type": "execute_result"
    }
   ],
   "source": [
    "df.index"
   ]
  },
  {
   "cell_type": "code",
   "execution_count": 81,
   "id": "87e900a4",
   "metadata": {},
   "outputs": [],
   "source": [
    "df.index = df.index.map(str)\n",
    "filter_index = list(map(str,range(1970,1980)))\n",
    "df = df.loc[filter_index]\n",
    "df.index = df.index.map(int)"
   ]
  },
  {
   "cell_type": "code",
   "execution_count": 89,
   "id": "1cf491d9",
   "metadata": {},
   "outputs": [
    {
     "data": {
      "text/plain": [
       "<AxesSubplot:>"
      ]
     },
     "execution_count": 89,
     "metadata": {},
     "output_type": "execute_result"
    },
    {
     "data": {
      "image/png": "[encoded data removed]",
      "text/plain": [
       "<Figure size 1440x720 with 1 Axes>"
      ]
     },
     "metadata": {
      "needs_background": "light"
     },
     "output_type": "display_data"
    }
   ],
   "source": [
    "# Bar Graph\n",
    "\n",
    "df.plot(kind='bar', figsize=(20,10))"
   ]
  },
  {
   "cell_type": "code",
   "execution_count": null,
   "id": "1abe0b02",
   "metadata": {},
   "outputs": [],
   "source": []
  }
 ],
 "metadata": {
  "kernelspec": {
   "display_name": "Python 3",
   "language": "python",
   "name": "python3"
  },
  "language_info": {
   "codemirror_mode": {
    "name": "ipython",
    "version": 3
   },
   "file_extension": ".py",
   "mimetype": "text/x-python",
   "name": "python",
   "nbconvert_exporter": "python",
   "pygments_lexer": "ipython3",
   "version": "3.8.8"
  }
 },
 "nbformat": 4,
 "nbformat_minor": 5
}
