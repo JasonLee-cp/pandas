{
 "cells": [
  {
   "cell_type": "code",
   "execution_count": 1,
   "id": "b4d4cf74",
   "metadata": {},
   "outputs": [],
   "source": [
    "import numpy as np\n",
    "import pandas as pd\n",
    "import matplotlib.pyplot as plt"
   ]
  },
  {
   "cell_type": "code",
   "execution_count": 2,
   "id": "2c8f64a9",
   "metadata": {},
   "outputs": [
    {
     "name": "stderr",
     "output_type": "stream",
     "text": [
      "/Users/jasonlee/Desktop/anaconda3/lib/python3.8/site-packages/pandas/core/frame.py:4308: SettingWithCopyWarning: \n",
      "A value is trying to be set on a copy of a slice from a DataFrame\n",
      "\n",
      "See the caveats in the documentation: https://pandas.pydata.org/pandas-docs/stable/user_guide/indexing.html#returning-a-view-versus-a-copy\n",
      "  return super().drop(\n",
      "/Users/jasonlee/Desktop/anaconda3/lib/python3.8/site-packages/pandas/core/frame.py:4441: SettingWithCopyWarning: \n",
      "A value is trying to be set on a copy of a slice from a DataFrame\n",
      "\n",
      "See the caveats in the documentation: https://pandas.pydata.org/pandas-docs/stable/user_guide/indexing.html#returning-a-view-versus-a-copy\n",
      "  return super().rename(\n"
     ]
    },
    {
     "data": {
      "text/html": [
       "<div>\n",
       "<style scoped>\n",
       "    .dataframe tbody tr th:only-of-type {\n",
       "        vertical-align: middle;\n",
       "    }\n",
       "\n",
       "    .dataframe tbody tr th {\n",
       "        vertical-align: top;\n",
       "    }\n",
       "\n",
       "    .dataframe thead th {\n",
       "        text-align: right;\n",
       "    }\n",
       "</style>\n",
       "<table border=\"1\" class=\"dataframe\">\n",
       "  <thead>\n",
       "    <tr style=\"text-align: right;\">\n",
       "      <th>전입지</th>\n",
       "      <th>충청남도</th>\n",
       "      <th>경상북도</th>\n",
       "      <th>강원도</th>\n",
       "      <th>전라남도</th>\n",
       "    </tr>\n",
       "  </thead>\n",
       "  <tbody>\n",
       "    <tr>\n",
       "      <th>1970</th>\n",
       "      <td>15954</td>\n",
       "      <td>11868</td>\n",
       "      <td>9352</td>\n",
       "      <td>10513</td>\n",
       "    </tr>\n",
       "    <tr>\n",
       "      <th>1971</th>\n",
       "      <td>18943</td>\n",
       "      <td>16459</td>\n",
       "      <td>12885</td>\n",
       "      <td>16755</td>\n",
       "    </tr>\n",
       "    <tr>\n",
       "      <th>1972</th>\n",
       "      <td>23406</td>\n",
       "      <td>22073</td>\n",
       "      <td>13561</td>\n",
       "      <td>20157</td>\n",
       "    </tr>\n",
       "    <tr>\n",
       "      <th>1973</th>\n",
       "      <td>27139</td>\n",
       "      <td>27531</td>\n",
       "      <td>16481</td>\n",
       "      <td>22160</td>\n",
       "    </tr>\n",
       "    <tr>\n",
       "      <th>1974</th>\n",
       "      <td>25509</td>\n",
       "      <td>26902</td>\n",
       "      <td>15479</td>\n",
       "      <td>21314</td>\n",
       "    </tr>\n",
       "  </tbody>\n",
       "</table>\n",
       "</div>"
      ],
      "text/plain": [
       "전입지    충청남도   경상북도    강원도   전라남도\n",
       "1970  15954  11868   9352  10513\n",
       "1971  18943  16459  12885  16755\n",
       "1972  23406  22073  13561  20157\n",
       "1973  27139  27531  16481  22160\n",
       "1974  25509  26902  15479  21314"
      ]
     },
     "execution_count": 2,
     "metadata": {},
     "output_type": "execute_result"
    }
   ],
   "source": [
    "from matplotlib import font_manager, rc\n",
    "\n",
    "rc('font', family='AppleGothic')\n",
    "df = pd.read_excel('../../../05000266/part4/시도별 전출입 인구수.xlsx', engine='openpyxl', header=0)\n",
    "\n",
    "df = df.fillna(method='ffill')\n",
    "\n",
    "mask = (df['전출지별'] == '서울특별시') & (df['전입지별'] != '서울특별시')\n",
    "df_seoul = df[mask]\n",
    "df_seoul.drop('전출지별', axis = 1, inplace = True)\n",
    "df_seoul.rename({'전입지별':'전입지'}, axis = 1, inplace = True)\n",
    "df_seoul.set_index('전입지', inplace = True)\n",
    "\n",
    "df_4 = df_seoul.loc[['충청남도', '경상북도', '강원도', '전라남도']]\n",
    "df_4.head()\n",
    "df_4 = df_4.T\n",
    "df_4.head()"
   ]
  },
  {
   "cell_type": "code",
   "execution_count": 3,
   "id": "d3efdf43",
   "metadata": {},
   "outputs": [
    {
     "data": {
      "text/html": [
       "<div>\n",
       "<style scoped>\n",
       "    .dataframe tbody tr th:only-of-type {\n",
       "        vertical-align: middle;\n",
       "    }\n",
       "\n",
       "    .dataframe tbody tr th {\n",
       "        vertical-align: top;\n",
       "    }\n",
       "\n",
       "    .dataframe thead th {\n",
       "        text-align: right;\n",
       "    }\n",
       "</style>\n",
       "<table border=\"1\" class=\"dataframe\">\n",
       "  <thead>\n",
       "    <tr style=\"text-align: right;\">\n",
       "      <th>전입지</th>\n",
       "      <th>충청남도</th>\n",
       "      <th>경상북도</th>\n",
       "      <th>강원도</th>\n",
       "      <th>전라남도</th>\n",
       "    </tr>\n",
       "  </thead>\n",
       "  <tbody>\n",
       "    <tr>\n",
       "      <th>1970</th>\n",
       "      <td>15954</td>\n",
       "      <td>11868</td>\n",
       "      <td>9352</td>\n",
       "      <td>10513</td>\n",
       "    </tr>\n",
       "    <tr>\n",
       "      <th>1971</th>\n",
       "      <td>18943</td>\n",
       "      <td>16459</td>\n",
       "      <td>12885</td>\n",
       "      <td>16755</td>\n",
       "    </tr>\n",
       "    <tr>\n",
       "      <th>1972</th>\n",
       "      <td>23406</td>\n",
       "      <td>22073</td>\n",
       "      <td>13561</td>\n",
       "      <td>20157</td>\n",
       "    </tr>\n",
       "    <tr>\n",
       "      <th>1973</th>\n",
       "      <td>27139</td>\n",
       "      <td>27531</td>\n",
       "      <td>16481</td>\n",
       "      <td>22160</td>\n",
       "    </tr>\n",
       "    <tr>\n",
       "      <th>1974</th>\n",
       "      <td>25509</td>\n",
       "      <td>26902</td>\n",
       "      <td>15479</td>\n",
       "      <td>21314</td>\n",
       "    </tr>\n",
       "  </tbody>\n",
       "</table>\n",
       "</div>"
      ],
      "text/plain": [
       "전입지    충청남도   경상북도    강원도   전라남도\n",
       "1970  15954  11868   9352  10513\n",
       "1971  18943  16459  12885  16755\n",
       "1972  23406  22073  13561  20157\n",
       "1973  27139  27531  16481  22160\n",
       "1974  25509  26902  15479  21314"
      ]
     },
     "execution_count": 3,
     "metadata": {},
     "output_type": "execute_result"
    }
   ],
   "source": [
    "df_4.head()"
   ]
  },
  {
   "cell_type": "markdown",
   "id": "d51831f9",
   "metadata": {},
   "source": [
    "### Example 4-16 p.132 - 세로형 Bar Plot"
   ]
  },
  {
   "cell_type": "code",
   "execution_count": 4,
   "id": "54698f16",
   "metadata": {},
   "outputs": [
    {
     "data": {
      "text/plain": [
       "Index(['1970', '1971', '1972', '1973', '1974', '1975', '1976', '1977', '1978',\n",
       "       '1979', '1980', '1981', '1982', '1983', '1984', '1985', '1986', '1987',\n",
       "       '1988', '1989', '1990', '1991', '1992', '1993', '1994', '1995', '1996',\n",
       "       '1997', '1998', '1999', '2000', '2001', '2002', '2003', '2004', '2005',\n",
       "       '2006', '2007', '2008', '2009', '2010', '2011', '2012', '2013', '2014',\n",
       "       '2015', '2016', '2017'],\n",
       "      dtype='object')"
      ]
     },
     "execution_count": 4,
     "metadata": {},
     "output_type": "execute_result"
    }
   ],
   "source": [
    "df_4.index"
   ]
  },
  {
   "cell_type": "code",
   "execution_count": 5,
   "id": "b4440375",
   "metadata": {},
   "outputs": [
    {
     "data": {
      "text/plain": [
       "Index(['충청남도', '경상북도', '강원도', '전라남도'], dtype='object', name='전입지')"
      ]
     },
     "execution_count": 5,
     "metadata": {},
     "output_type": "execute_result"
    }
   ],
   "source": [
    "df_4.columns"
   ]
  },
  {
   "cell_type": "code",
   "execution_count": 6,
   "id": "c4c1fc54",
   "metadata": {
    "scrolled": true
   },
   "outputs": [],
   "source": [
    "col_years = list(map(str,range(2010,2018)))\n",
    "df_4 = df_4.loc[col_years]\n",
    "df_4.index = df_4.index.map(int)"
   ]
  },
  {
   "cell_type": "code",
   "execution_count": 20,
   "id": "0bd9cfd9",
   "metadata": {},
   "outputs": [
    {
     "data": {
      "text/html": [
       "<div>\n",
       "<style scoped>\n",
       "    .dataframe tbody tr th:only-of-type {\n",
       "        vertical-align: middle;\n",
       "    }\n",
       "\n",
       "    .dataframe tbody tr th {\n",
       "        vertical-align: top;\n",
       "    }\n",
       "\n",
       "    .dataframe thead th {\n",
       "        text-align: right;\n",
       "    }\n",
       "</style>\n",
       "<table border=\"1\" class=\"dataframe\">\n",
       "  <thead>\n",
       "    <tr style=\"text-align: right;\">\n",
       "      <th>전입지</th>\n",
       "      <th>충청남도</th>\n",
       "      <th>경상북도</th>\n",
       "      <th>강원도</th>\n",
       "      <th>전라남도</th>\n",
       "    </tr>\n",
       "  </thead>\n",
       "  <tbody>\n",
       "    <tr>\n",
       "      <th>2010</th>\n",
       "      <td>24522</td>\n",
       "      <td>16042</td>\n",
       "      <td>22736</td>\n",
       "      <td>16429</td>\n",
       "    </tr>\n",
       "    <tr>\n",
       "      <th>2011</th>\n",
       "      <td>24723</td>\n",
       "      <td>15818</td>\n",
       "      <td>23624</td>\n",
       "      <td>15974</td>\n",
       "    </tr>\n",
       "    <tr>\n",
       "      <th>2012</th>\n",
       "      <td>22269</td>\n",
       "      <td>15191</td>\n",
       "      <td>22332</td>\n",
       "      <td>14765</td>\n",
       "    </tr>\n",
       "    <tr>\n",
       "      <th>2013</th>\n",
       "      <td>21486</td>\n",
       "      <td>14420</td>\n",
       "      <td>20601</td>\n",
       "      <td>14187</td>\n",
       "    </tr>\n",
       "    <tr>\n",
       "      <th>2014</th>\n",
       "      <td>21473</td>\n",
       "      <td>14456</td>\n",
       "      <td>21173</td>\n",
       "      <td>14591</td>\n",
       "    </tr>\n",
       "    <tr>\n",
       "      <th>2015</th>\n",
       "      <td>22299</td>\n",
       "      <td>15113</td>\n",
       "      <td>22659</td>\n",
       "      <td>14598</td>\n",
       "    </tr>\n",
       "    <tr>\n",
       "      <th>2016</th>\n",
       "      <td>21741</td>\n",
       "      <td>14236</td>\n",
       "      <td>21590</td>\n",
       "      <td>13065</td>\n",
       "    </tr>\n",
       "    <tr>\n",
       "      <th>2017</th>\n",
       "      <td>21020</td>\n",
       "      <td>12464</td>\n",
       "      <td>21016</td>\n",
       "      <td>12426</td>\n",
       "    </tr>\n",
       "  </tbody>\n",
       "</table>\n",
       "</div>"
      ],
      "text/plain": [
       "전입지    충청남도   경상북도    강원도   전라남도\n",
       "2010  24522  16042  22736  16429\n",
       "2011  24723  15818  23624  15974\n",
       "2012  22269  15191  22332  14765\n",
       "2013  21486  14420  20601  14187\n",
       "2014  21473  14456  21173  14591\n",
       "2015  22299  15113  22659  14598\n",
       "2016  21741  14236  21590  13065\n",
       "2017  21020  12464  21016  12426"
      ]
     },
     "execution_count": 20,
     "metadata": {},
     "output_type": "execute_result"
    }
   ],
   "source": [
    "df_4"
   ]
  },
  {
   "cell_type": "code",
   "execution_count": 7,
   "id": "b0bab174",
   "metadata": {
    "scrolled": true
   },
   "outputs": [
    {
     "data": {
      "text/plain": [
       "Int64Index([2010, 2011, 2012, 2013, 2014, 2015, 2016, 2017], dtype='int64')"
      ]
     },
     "execution_count": 7,
     "metadata": {},
     "output_type": "execute_result"
    }
   ],
   "source": [
    "df_4['충청남도'].index"
   ]
  },
  {
   "cell_type": "code",
   "execution_count": 8,
   "id": "158440a0",
   "metadata": {},
   "outputs": [
    {
     "data": {
      "text/plain": [
       "array([24522, 24723, 22269, 21486, 21473, 22299, 21741, 21020],\n",
       "      dtype=object)"
      ]
     },
     "execution_count": 8,
     "metadata": {},
     "output_type": "execute_result"
    }
   ],
   "source": [
    "df_4['충청남도'].values"
   ]
  },
  {
   "cell_type": "code",
   "execution_count": 9,
   "id": "6090bd4a",
   "metadata": {},
   "outputs": [
    {
     "data": {
      "image/png": "[encoded data removed]",
      "text/plain": [
       "<Figure size 1440x720 with 1 Axes>"
      ]
     },
     "metadata": {
      "needs_background": "light"
     },
     "output_type": "display_data"
    }
   ],
   "source": [
    "fig = plt.figure(figsize=(20,10))\n",
    "ax = fig.subplots()\n",
    "\n",
    "ax.bar(df_4['충청남도'].index, df_4['충청남도'].values, width=0.7)\n",
    "ax.grid(True)"
   ]
  },
  {
   "cell_type": "markdown",
   "id": "fbb86003",
   "metadata": {},
   "source": [
    "#### Dataframe.plot(kind = \"bar\")"
   ]
  },
  {
   "cell_type": "code",
   "execution_count": 10,
   "id": "16abd9a7",
   "metadata": {},
   "outputs": [
    {
     "data": {
      "text/html": [
       "<div>\n",
       "<style scoped>\n",
       "    .dataframe tbody tr th:only-of-type {\n",
       "        vertical-align: middle;\n",
       "    }\n",
       "\n",
       "    .dataframe tbody tr th {\n",
       "        vertical-align: top;\n",
       "    }\n",
       "\n",
       "    .dataframe thead th {\n",
       "        text-align: right;\n",
       "    }\n",
       "</style>\n",
       "<table border=\"1\" class=\"dataframe\">\n",
       "  <thead>\n",
       "    <tr style=\"text-align: right;\">\n",
       "      <th>전입지</th>\n",
       "      <th>충청남도</th>\n",
       "      <th>경상북도</th>\n",
       "      <th>강원도</th>\n",
       "      <th>전라남도</th>\n",
       "    </tr>\n",
       "  </thead>\n",
       "  <tbody>\n",
       "    <tr>\n",
       "      <th>2010</th>\n",
       "      <td>24522</td>\n",
       "      <td>16042</td>\n",
       "      <td>22736</td>\n",
       "      <td>16429</td>\n",
       "    </tr>\n",
       "    <tr>\n",
       "      <th>2011</th>\n",
       "      <td>24723</td>\n",
       "      <td>15818</td>\n",
       "      <td>23624</td>\n",
       "      <td>15974</td>\n",
       "    </tr>\n",
       "    <tr>\n",
       "      <th>2012</th>\n",
       "      <td>22269</td>\n",
       "      <td>15191</td>\n",
       "      <td>22332</td>\n",
       "      <td>14765</td>\n",
       "    </tr>\n",
       "    <tr>\n",
       "      <th>2013</th>\n",
       "      <td>21486</td>\n",
       "      <td>14420</td>\n",
       "      <td>20601</td>\n",
       "      <td>14187</td>\n",
       "    </tr>\n",
       "    <tr>\n",
       "      <th>2014</th>\n",
       "      <td>21473</td>\n",
       "      <td>14456</td>\n",
       "      <td>21173</td>\n",
       "      <td>14591</td>\n",
       "    </tr>\n",
       "  </tbody>\n",
       "</table>\n",
       "</div>"
      ],
      "text/plain": [
       "전입지    충청남도   경상북도    강원도   전라남도\n",
       "2010  24522  16042  22736  16429\n",
       "2011  24723  15818  23624  15974\n",
       "2012  22269  15191  22332  14765\n",
       "2013  21486  14420  20601  14187\n",
       "2014  21473  14456  21173  14591"
      ]
     },
     "execution_count": 10,
     "metadata": {},
     "output_type": "execute_result"
    }
   ],
   "source": [
    "df_4.head()"
   ]
  },
  {
   "cell_type": "code",
   "execution_count": 11,
   "id": "4aadb6b1",
   "metadata": {},
   "outputs": [
    {
     "data": {
      "text/plain": [
       "<AxesSubplot:>"
      ]
     },
     "execution_count": 11,
     "metadata": {},
     "output_type": "execute_result"
    },
    {
     "data": {
      "image/png": "[encoded data removed]",
      "text/plain": [
       "<Figure size 1440x720 with 1 Axes>"
      ]
     },
     "metadata": {
      "needs_background": "light"
     },
     "output_type": "display_data"
    }
   ],
   "source": [
    "df_4.plot(kind='bar', figsize=(20,10), width=0.7, color=['lightgreen','green','grey','orange'])"
   ]
  },
  {
   "cell_type": "code",
   "execution_count": 12,
   "id": "042e2caa",
   "metadata": {},
   "outputs": [
    {
     "data": {
      "text/plain": [
       "<AxesSubplot:>"
      ]
     },
     "execution_count": 12,
     "metadata": {},
     "output_type": "execute_result"
    },
    {
     "data": {
      "image/png": "[encoded data removed]",
      "text/plain": [
       "<Figure size 1440x720 with 1 Axes>"
      ]
     },
     "metadata": {
      "needs_background": "light"
     },
     "output_type": "display_data"
    }
   ],
   "source": [
    "df_4.plot(kind='barh', figsize=(20,10), width=0.7, color=['red','green','grey','orange'])"
   ]
  },
  {
   "cell_type": "code",
   "execution_count": 13,
   "id": "06c73763",
   "metadata": {},
   "outputs": [
    {
     "data": {
      "text/html": [
       "<div>\n",
       "<style scoped>\n",
       "    .dataframe tbody tr th:only-of-type {\n",
       "        vertical-align: middle;\n",
       "    }\n",
       "\n",
       "    .dataframe tbody tr th {\n",
       "        vertical-align: top;\n",
       "    }\n",
       "\n",
       "    .dataframe thead th {\n",
       "        text-align: right;\n",
       "    }\n",
       "</style>\n",
       "<table border=\"1\" class=\"dataframe\">\n",
       "  <thead>\n",
       "    <tr style=\"text-align: right;\">\n",
       "      <th>전입지</th>\n",
       "      <th>충청남도</th>\n",
       "      <th>경상북도</th>\n",
       "      <th>강원도</th>\n",
       "      <th>전라남도</th>\n",
       "    </tr>\n",
       "  </thead>\n",
       "  <tbody>\n",
       "    <tr>\n",
       "      <th>2010</th>\n",
       "      <td>24522</td>\n",
       "      <td>16042</td>\n",
       "      <td>22736</td>\n",
       "      <td>16429</td>\n",
       "    </tr>\n",
       "    <tr>\n",
       "      <th>2011</th>\n",
       "      <td>24723</td>\n",
       "      <td>15818</td>\n",
       "      <td>23624</td>\n",
       "      <td>15974</td>\n",
       "    </tr>\n",
       "    <tr>\n",
       "      <th>2012</th>\n",
       "      <td>22269</td>\n",
       "      <td>15191</td>\n",
       "      <td>22332</td>\n",
       "      <td>14765</td>\n",
       "    </tr>\n",
       "    <tr>\n",
       "      <th>2013</th>\n",
       "      <td>21486</td>\n",
       "      <td>14420</td>\n",
       "      <td>20601</td>\n",
       "      <td>14187</td>\n",
       "    </tr>\n",
       "    <tr>\n",
       "      <th>2014</th>\n",
       "      <td>21473</td>\n",
       "      <td>14456</td>\n",
       "      <td>21173</td>\n",
       "      <td>14591</td>\n",
       "    </tr>\n",
       "  </tbody>\n",
       "</table>\n",
       "</div>"
      ],
      "text/plain": [
       "전입지    충청남도   경상북도    강원도   전라남도\n",
       "2010  24522  16042  22736  16429\n",
       "2011  24723  15818  23624  15974\n",
       "2012  22269  15191  22332  14765\n",
       "2013  21486  14420  20601  14187\n",
       "2014  21473  14456  21173  14591"
      ]
     },
     "execution_count": 13,
     "metadata": {},
     "output_type": "execute_result"
    }
   ],
   "source": [
    "df_4.head()"
   ]
  },
  {
   "cell_type": "code",
   "execution_count": 14,
   "id": "ff2575ea",
   "metadata": {},
   "outputs": [
    {
     "data": {
      "text/plain": [
       "array([179533, 117740, 175731, 116035], dtype=object)"
      ]
     },
     "execution_count": 14,
     "metadata": {},
     "output_type": "execute_result"
    }
   ],
   "source": [
    "df_4.sum(axis = 0).values"
   ]
  },
  {
   "cell_type": "code",
   "execution_count": 15,
   "id": "a4cd3580",
   "metadata": {},
   "outputs": [],
   "source": [
    "total = df_4.sum(axis = 0)"
   ]
  },
  {
   "cell_type": "code",
   "execution_count": 16,
   "id": "986daaa5",
   "metadata": {},
   "outputs": [
    {
     "data": {
      "text/plain": [
       "전입지\n",
       "충청남도    179533\n",
       "경상북도    117740\n",
       "강원도     175731\n",
       "전라남도    116035\n",
       "dtype: object"
      ]
     },
     "execution_count": 16,
     "metadata": {},
     "output_type": "execute_result"
    }
   ],
   "source": [
    "total"
   ]
  },
  {
   "cell_type": "code",
   "execution_count": 17,
   "id": "0817ca10",
   "metadata": {},
   "outputs": [],
   "source": [
    "total = total.sort_values(ascending=True)"
   ]
  },
  {
   "cell_type": "code",
   "execution_count": 18,
   "id": "8d25fcb1",
   "metadata": {},
   "outputs": [
    {
     "data": {
      "text/plain": [
       "전입지\n",
       "전라남도    116035\n",
       "경상북도    117740\n",
       "강원도     175731\n",
       "충청남도    179533\n",
       "dtype: object"
      ]
     },
     "execution_count": 18,
     "metadata": {},
     "output_type": "execute_result"
    }
   ],
   "source": [
    "total"
   ]
  },
  {
   "cell_type": "code",
   "execution_count": 19,
   "id": "154e8b27",
   "metadata": {},
   "outputs": [
    {
     "data": {
      "text/plain": [
       "<AxesSubplot:ylabel='전입지'>"
      ]
     },
     "execution_count": 19,
     "metadata": {},
     "output_type": "execute_result"
    },
    {
     "data": {
      "image/png": "[encoded data removed]",
      "text/plain": [
       "<Figure size 720x360 with 1 Axes>"
      ]
     },
     "metadata": {
      "needs_background": "light"
     },
     "output_type": "display_data"
    }
   ],
   "source": [
    "total.plot(kind='barh', figsize=(10,5))"
   ]
  },
  {
   "cell_type": "code",
   "execution_count": 23,
   "id": "ccf73ebd",
   "metadata": {},
   "outputs": [
    {
     "data": {
      "text/plain": [
       "<AxesSubplot:xlabel='전입지'>"
      ]
     },
     "execution_count": 23,
     "metadata": {},
     "output_type": "execute_result"
    },
    {
     "data": {
      "image/png": "[encoded data removed]",
      "text/plain": [
       "<Figure size 360x720 with 1 Axes>"
      ]
     },
     "metadata": {
      "needs_background": "light"
     },
     "output_type": "display_data"
    }
   ],
   "source": [
    "total.sort_values(ascending = False).plot(kind='bar', figsize=(5,10))"
   ]
  },
  {
   "cell_type": "code",
   "execution_count": null,
   "id": "79491615",
   "metadata": {},
   "outputs": [],
   "source": []
  },
  {
   "cell_type": "code",
   "execution_count": null,
   "id": "f2d5e22b",
   "metadata": {},
   "outputs": [],
   "source": []
  },
  {
   "cell_type": "code",
   "execution_count": null,
   "id": "416dd58d",
   "metadata": {},
   "outputs": [],
   "source": []
  },
  {
   "cell_type": "code",
   "execution_count": null,
   "id": "8a4ff4f1",
   "metadata": {},
   "outputs": [],
   "source": []
  },
  {
   "cell_type": "code",
   "execution_count": null,
   "id": "24a62977",
   "metadata": {},
   "outputs": [],
   "source": []
  },
  {
   "cell_type": "code",
   "execution_count": null,
   "id": "7b93aca3",
   "metadata": {},
   "outputs": [],
   "source": []
  }
 ],
 "metadata": {
  "kernelspec": {
   "display_name": "Python 3 (ipykernel)",
   "language": "python",
   "name": "python3"
  },
  "language_info": {
   "codemirror_mode": {
    "name": "ipython",
    "version": 3
   },
   "file_extension": ".py",
   "mimetype": "text/x-python",
   "name": "python",
   "nbconvert_exporter": "python",
   "pygments_lexer": "ipython3",
   "version": "3.9.7"
  }
 },
 "nbformat": 4,
 "nbformat_minor": 5
}
